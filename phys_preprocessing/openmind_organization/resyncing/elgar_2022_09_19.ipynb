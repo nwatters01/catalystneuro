{
 "cells": [
  {
   "cell_type": "code",
   "execution_count": 5,
   "id": "right-studio",
   "metadata": {},
   "outputs": [],
   "source": [
    "\n",
    "import csv\n",
    "import json\n",
    "import numpy as np\n",
    "import os\n",
    "import sys\n",
    "from matplotlib import pyplot as plt\n",
    "from scipy import linalg as scipy_linalg"
   ]
  },
  {
   "cell_type": "code",
   "execution_count": 6,
   "id": "agricultural-negotiation",
   "metadata": {},
   "outputs": [],
   "source": [
    "_BASE_DIR = (\n",
    "    '/Users/nicholaswatters/Desktop/grad_school/research/mehrdad/'\n",
    "    'multi_prediction/phys/data_processed/Elgar/2022-09-19'\n",
    ")\n",
    "_SYNC_DIR = os.path.join(_BASE_DIR, 'sync_pulses')\n",
    "_TRIAL_STRUCTURE_DIR = os.path.join(_BASE_DIR, 'trial_structure')\n",
    "_SPIKE_SORTING_DIR = os.path.join(_BASE_DIR, 'spike_sorting')\n",
    "\n"
   ]
  },
  {
   "cell_type": "code",
   "execution_count": 10,
   "id": "749dc8a4",
   "metadata": {},
   "outputs": [
    {
     "name": "stdout",
     "output_type": "stream",
     "text": [
      "dict_keys(['mworks_trial_num', 'mworks_t_start', 'mworks_t_end', 'mworks_relative_phase_times', 'mworks_photodiode_delay', 'mworks_session_num', 'moog_data', 'open_ephys_t_start', 'open_ephys_t_end', 'open_ephys_relative_phase_times', 'open_ephys_photodiode_delay', 'spikeglx_t_start', 'spikeglx_t_end', 'spikeglx_relative_phase_times', 'spikeglx_photodiode_delay'])\n",
      "856\n",
      "1\n",
      "3678.795884\n"
     ]
    }
   ],
   "source": [
    "trial_ind = 1000\n",
    "print(trials[trial_ind].keys())\n",
    "print(trials[trial_ind]['mworks_trial_num'])\n",
    "print(trials[trial_ind]['mworks_session_num'])\n",
    "print(trials[trial_ind]['mworks_t_start'])"
   ]
  },
  {
   "cell_type": "code",
   "execution_count": null,
   "id": "4dfc218c",
   "metadata": {},
   "outputs": [],
   "source": [
    "eye_h_calibrated = json.load(open(os.path.join(_TRIAL_STRUCTURE_DIR, 'trials'), 'r'))"
   ]
  },
  {
   "cell_type": "code",
   "execution_count": 54,
   "id": "01c0d2da",
   "metadata": {},
   "outputs": [
    {
     "name": "stdout",
     "output_type": "stream",
     "text": [
      "[True, False, False, False, False, False, False, False, False, False, False, False, False, False, False, False, False, False, False, False, False, False, False, False, False, False, False, False, False, False, False, False, False, False, False, False, False, False, False, False, False, False, False, False, False, False, False, False, False, False, False, False, False, False, False, False, False, False, False, False, False, False, False, False, False, False, False, False, False, False, False, False, False, False, False, False, False, False, False, False, False, False, False, False, False, False, False, False, False, False, False, False, False, False, False, False, False, False, True]\n"
     ]
    }
   ],
   "source": [
    "print(oe_trials[421:520])"
   ]
  },
  {
   "cell_type": "code",
   "execution_count": 70,
   "id": "0c58c12a",
   "metadata": {},
   "outputs": [
    {
     "name": "stdout",
     "output_type": "stream",
     "text": [
      "0.9999661866200498\n"
     ]
    }
   ],
   "source": [
    "mworks_to_open_ephys_time_ratio = (\n",
    "    (to_plot[418, 0] - to_plot[2, 0]) / (to_plot[418, 1] - to_plot[2, 1])\n",
    ")\n",
    "print(mworks_to_open_ephys_time_ratio)"
   ]
  },
  {
   "cell_type": "code",
   "execution_count": 71,
   "id": "924755e6",
   "metadata": {},
   "outputs": [],
   "source": [
    "oe_start_bad_time = trials[421]['open_ephys_t_end']\n",
    "oe_end_bad_time = trials[519]['open_ephys_t_start']\n",
    "mw_start_bad_time = trials[421]['mworks_t_end']\n",
    "mw_end_bad_time = trials[519]['mworks_t_start']\n"
   ]
  },
  {
   "cell_type": "code",
   "execution_count": 73,
   "id": "2447c39a",
   "metadata": {},
   "outputs": [
    {
     "name": "stdout",
     "output_type": "stream",
     "text": [
      "1849.7108999999966\n",
      "1963.1731384071338\n",
      "1789.66614\n",
      "2184.185436\n",
      "394.51929600000017\n",
      "394.5326364819403\n",
      "113.46223840713719\n",
      "281.0703980748031\n"
     ]
    }
   ],
   "source": [
    "print(oe_start_bad_time)\n",
    "print(oe_end_bad_time)\n",
    "print(mw_start_bad_time)\n",
    "print(mw_end_bad_time)\n",
    "mw_interval = mw_end_bad_time - mw_start_bad_time\n",
    "oe_true_interval = mw_interval / mworks_to_open_ephys_time_ratio\n",
    "oe_empirical_interval = oe_end_bad_time - oe_start_bad_time\n",
    "print(mw_interval)\n",
    "print(oe_true_interval)\n",
    "print(oe_empirical_interval)\n",
    "oe_after_boost = oe_true_interval - oe_empirical_interval\n",
    "print(oe_after_boost)"
   ]
  },
  {
   "cell_type": "code",
   "execution_count": 76,
   "id": "51c35fc3",
   "metadata": {},
   "outputs": [],
   "source": [
    "spike_times = np.squeeze(np.load(os.path.join(_TRIAL_STRUCTURE_DIR, 'spike_times.npy')))\n",
    "spike_clusters = np.load(os.path.join(_TRIAL_STRUCTURE_DIR, 'spike_clusters.npy'))\n",
    "amplitudes = np.squeeze(np.load(os.path.join(_TRIAL_STRUCTURE_DIR, 'amplitudes.npy')))\n",
    "sample_rate = json.load(open(os.path.join(_TRIAL_STRUCTURE_DIR, 'sample_rate'), 'r'))"
   ]
  },
  {
   "cell_type": "code",
   "execution_count": 78,
   "id": "445058e2",
   "metadata": {},
   "outputs": [],
   "source": [
    "adj_spike_times = spike_times / sample_rate\n",
    "before_inds = adj_spike_times < oe_start_bad_time\n",
    "after_inds = adj_spike_times > oe_end_bad_time\n",
    "new_spike_times = np.concatenate(\n",
    "    [spike_times[before_inds], oe_after_boost + spike_times[after_inds]]\n",
    ")\n",
    "new_spike_clusters = np.concatenate(\n",
    "    [spike_clusters[before_inds], spike_clusters[after_inds]]\n",
    ")\n",
    "new_amplitudes = np.concatenate(\n",
    "    [spike_clusters[before_inds], spike_clusters[after_inds]]\n",
    ")"
   ]
  },
  {
   "cell_type": "code",
   "execution_count": 83,
   "id": "bfcd3ddb",
   "metadata": {},
   "outputs": [],
   "source": [
    "for t in trials[500:]:\n",
    "    if 'open_ephys_t_start' in t:\n",
    "        t['open_ephys_t_start'] = t['open_ephys_t_start'] + oe_after_boost\n",
    "    if 'open_ephys_t_end' in t:\n",
    "        t['open_ephys_t_end'] = t['open_ephys_t_end'] + oe_after_boost"
   ]
  },
  {
   "cell_type": "code",
   "execution_count": 84,
   "id": "4d0ac648",
   "metadata": {},
   "outputs": [],
   "source": [
    "## Save stuff\n",
    "\n",
    "json.dump(trials, open(os.path.join(_TRIAL_STRUCTURE_DIR, 'trials'), 'w'))\n",
    "np.save(os.path.join(_TRIAL_STRUCTURE_DIR, 'spike_times.npy'), new_spike_times[:, np.newaxis])\n",
    "np.save(os.path.join(_TRIAL_STRUCTURE_DIR, 'amplitudes.npy'), new_amplitudes[:, np.newaxis])\n",
    "np.save(os.path.join(_TRIAL_STRUCTURE_DIR, 'spike_clusters.npy'), new_spike_clusters)\n"
   ]
  },
  {
   "cell_type": "code",
   "execution_count": 79,
   "id": "08bdea54",
   "metadata": {},
   "outputs": [
    {
     "data": {
      "text/plain": [
       "(array([738119., 769238., 662166., 828658., 829548., 849512., 850624.,\n",
       "        887796., 853199., 743546.]),\n",
       " array([8.40000000e+01, 2.04506115e+07, 4.09011390e+07, 6.13516665e+07,\n",
       "        8.18021940e+07, 1.02252722e+08, 1.22703249e+08, 1.43153777e+08,\n",
       "        1.63604304e+08, 1.84054832e+08, 2.04505359e+08]),\n",
       " <BarContainer object of 10 artists>)"
      ]
     },
     "execution_count": 79,
     "metadata": {},
     "output_type": "execute_result"
    },
    {
     "data": {
      "image/png": "[encoded data removed]",
      "text/plain": [
       "<Figure size 432x288 with 1 Axes>"
      ]
     },
     "metadata": {
      "needs_background": "light"
     },
     "output_type": "display_data"
    },
    {
     "data": {
      "image/png": "[encoded data removed]",
      "text/plain": [
       "<Figure size 432x288 with 1 Axes>"
      ]
     },
     "metadata": {
      "needs_background": "light"
     },
     "output_type": "display_data"
    }
   ],
   "source": [
    "plt.figure()\n",
    "plt.hist(spike_times)\n",
    "plt.figure()\n",
    "plt.hist(new_spike_times)"
   ]
  },
  {
   "cell_type": "code",
   "execution_count": 45,
   "id": "boring-antigua",
   "metadata": {},
   "outputs": [
    {
     "data": {
      "text/plain": [
       "Text(0.5, 1.0, 'Mworks times vs open_ephys times')"
      ]
     },
     "execution_count": 45,
     "metadata": {},
     "output_type": "execute_result"
    },
    {
     "data": {
      "image/png": "[encoded data removed]",
      "text/plain": [
       "<Figure size 432x288 with 1 Axes>"
      ]
     },
     "metadata": {
      "needs_background": "light"
     },
     "output_type": "display_data"
    },
    {
     "data": {
      "image/png": "[encoded data removed]",
      "text/plain": [
       "<Figure size 432x288 with 1 Axes>"
      ]
     },
     "metadata": {
      "needs_background": "light"
     },
     "output_type": "display_data"
    }
   ],
   "source": [
    "\n",
    "\n",
    "fig, ax = plt.subplots()\n",
    "# end_ind = -10\n",
    "ax.plot(diffs_ratio[420:423])\n",
    "\n",
    "fig, ax = plt.subplots()\n",
    "ax.scatter(to_plot[:, 0], to_plot[:, 1], s=2)\n",
    "ax.set_xlabel('mworks times')\n",
    "ax.set_ylabel('open_ephys times')\n",
    "ax.set_title('Mworks times vs open_ephys times', fontsize=8)"
   ]
  },
  {
   "cell_type": "code",
   "execution_count": null,
   "id": "cb16dc9a",
   "metadata": {},
   "outputs": [],
   "source": []
  },
  {
   "cell_type": "code",
   "execution_count": null,
   "id": "8b472b85",
   "metadata": {},
   "outputs": [],
   "source": []
  },
  {
   "cell_type": "code",
   "execution_count": 3,
   "id": "c42f9e34",
   "metadata": {},
   "outputs": [
    {
     "name": "stdout",
     "output_type": "stream",
     "text": [
      "0\n",
      "[48.854674 48.85701  48.938572 50.942448 50.942535]\n",
      "[104.963514 104.964448 104.965448 104.966446 105.484695]\n",
      "1\n",
      "[122.818818 122.820825 122.902591 124.134667 124.134787]\n",
      "[3200.944646 3200.945649 3200.94665  3200.947657 3201.465694]\n",
      "2\n",
      "[3211.329859 3211.332119 3211.413653 3212.817444 3212.817532]\n",
      "[4491.103447 4491.10445  4491.106449 4491.106563 4491.624693]\n",
      "3\n",
      "[4502.014993 4502.017002 4502.098808 4503.602647 4503.602711]\n",
      "[5122.918646 5123.051657 5123.052645 5123.053648 5123.054647]\n",
      "4\n",
      "[5132.667196 5132.669193 5132.750996 5134.077448 5134.077553]\n",
      "[5897.748452 5897.749449 5897.75045  5897.751454 5898.269693]\n",
      "5\n",
      "[5909.093314 5909.095886 5909.177195 5910.550245 5910.55032 ]\n",
      "[6713.245246 6713.246257 6713.247255 6713.248255 6713.766696]\n",
      "6\n",
      "[6719.305022 6719.307337 6719.388794 6720.693448 6720.693541]\n",
      "[8912.386448 8912.387449 8912.388448 8912.389447 8912.390456]\n",
      "7\n",
      "[8921.499692 8921.501815 8921.583384 8922.874247 8922.874299]\n",
      "[9458.229251 9458.229323 9458.231246 9458.231297 9458.749692]\n"
     ]
    }
   ],
   "source": [
    "\n",
    "\n",
    "eye_dir = (\n",
    "    '/Users/nicholaswatters/Desktop/grad_school/research/mehrdad/'\n",
    "    'multi_prediction/phys/phys_data/sync_plots/data/Elgar/2022-05-07/eye_data'\n",
    ")\n",
    "\n",
    "for session_num in np.arange(8):\n",
    "    print(session_num)\n",
    "    eye_data_dir = os.path.join(\n",
    "        eye_dir, 'mwork_session_num_' + str(session_num))\n",
    "    times = np.load(os.path.join(eye_data_dir, 'eye_v_calibrated_times.npy'))\n",
    "    print(times[:5])\n",
    "    print(times[-5:])"
   ]
  },
  {
   "cell_type": "code",
   "execution_count": null,
   "id": "5bc8fe76",
   "metadata": {},
   "outputs": [],
   "source": []
  }
 ],
 "metadata": {
  "kernelspec": {
   "display_name": "Python 3.7.3 64-bit",
   "language": "python",
   "name": "python3"
  },
  "language_info": {
   "codemirror_mode": {
    "name": "ipython",
    "version": 3
   },
   "file_extension": ".py",
   "mimetype": "text/x-python",
   "name": "python",
   "nbconvert_exporter": "python",
   "pygments_lexer": "ipython3",
   "version": "3.7.3"
  },
  "toc": {
   "base_numbering": 1,
   "nav_menu": {},
   "number_sections": true,
   "sideBar": true,
   "skip_h1_title": false,
   "title_cell": "Table of Contents",
   "title_sidebar": "Contents",
   "toc_cell": false,
   "toc_position": {},
   "toc_section_display": true,
   "toc_window_display": false
  },
  "varInspector": {
   "cols": {
    "lenName": 16,
    "lenType": 16,
    "lenVar": 40
   },
   "kernels_config": {
    "python": {
     "delete_cmd_postfix": "",
     "delete_cmd_prefix": "del ",
     "library": "var_list.py",
     "varRefreshCmd": "print(var_dic_list())"
    },
    "r": {
     "delete_cmd_postfix": ") ",
     "delete_cmd_prefix": "rm(",
     "library": "var_list.r",
     "varRefreshCmd": "cat(var_dic_list()) "
    }
   },
   "types_to_exclude": [
    "module",
    "function",
    "builtin_function_or_method",
    "instance",
    "_Feature"
   ],
   "window_display": false
  },
  "vscode": {
   "interpreter": {
    "hash": "31f2aee4e71d21fbe5cf8b01ff0e069b9275f58929596ceb00d14d90e3e16cd6"
   }
  }
 },
 "nbformat": 4,
 "nbformat_minor": 5
}
